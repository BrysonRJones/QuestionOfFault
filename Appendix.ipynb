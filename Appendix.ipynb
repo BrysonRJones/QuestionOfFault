{
 "cells": [
  {
   "cell_type": "markdown",
   "metadata": {},
   "source": [
    "# Appendix\n",
    "## Binary Probbility Distributions\n",
    "A binary probability distribution occurs when you look at an event or a series of events that each have two possible, mutually exclusive outcomes. Flipping a perfectly flat coin is the most basic example - you could get heads or tails, but you can't get both.\n",
    "\n",
    "The probability of each possible outcome for an event adds up to 1. Outcomes are typically represented with capital letters, while events are represented with lowercase letters. We'll use `H` for heads, and `T` for tails. `P(A)` will be used to represent the probability that outcome `A` occurs.\n",
    "\n",
    "The way that we say they add up to 1 is like this:\n",
    "\n",
    "$1 = P(H)+P(T)$\n"
   ]
  },
  {
   "cell_type": "markdown",
   "metadata": {},
   "source": [
    "We can also conclude:\n",
    "\n",
    "$1 - P(H) = P(T)$\n",
    "\n",
    "$1 - P(T) = P(H)$"
   ]
  },
  {
   "cell_type": "markdown",
   "metadata": {},
   "source": [
    "If I want to talk about the probability that event $x_{1}$ turns out to be heads, that's written like this:\n",
    "\n",
    "$P(x_{1} = H) = 0.5$\n",
    "\n",
    "And I'd write the probability that $x_{2}$ turns out to be tails as:\n",
    "\n",
    "$P(x_{2} = T) = 0.5$\n",
    "\n",
    "Because $x_{1}$ and $x_{2}$ are independent, we can multiply both of them together to get the chance that they both happen. We'll use $\\cap$ to represent both events occurring together.\n",
    "\n",
    "$P(x_{1} = H \\cap x_{2} = T) = P(x_{1} = H) * P(x_{2} = T)$\n",
    "\n",
    "$P(x_{1} = H \\cap x_{2} = T) = 0.5 * 0.5$\n",
    "\n",
    "$P(x_{1} = H \\cap x_{2} = T) = 0.25$\n",
    "\n",
    "Below are the possible outcomes for flipping a coin twice.\n",
    "\n",
    "$P(x_{1} = H \\cap x_{2} = H) = 0.25$\n",
    "\n",
    "$P(x_{1} = H \\cap x_{2} = T) = 0.25$\n",
    "\n",
    "$P(x_{1} = T \\cap x_{2} = H) = 0.25$\n",
    "\n",
    "$P(x_{1} = T \\cap x_{2} = T) = 0.25$"
   ]
  },
  {
   "cell_type": "markdown",
   "metadata": {},
   "source": [
    "We can also calculate the probability of each outcome if we don't care about order. Since each outcome is independent, we can add up the probabilities from above that match the criteria\n",
    "\n",
    "Heads Twice and No Tails\n",
    "\n",
    "$P(2H 0T) = P(x_{1} = H \\cap x_{2} = H) = 0.25$\n",
    "\n",
    "Heads Once and Tails Once\n",
    "\n",
    "$P(1H 1T) = P(x_{1} = H \\cap x_{2} = T) + P(x_{1} = T \\cap x_{2} = H) = 0.25 + 0.25 = 0.5$\n",
    "\n",
    "Tails Twice and No Heads\n",
    "\n",
    "$p(0H 2T) = P(x_{1} = T \\cap x_{2} = T) = 0.25$"
   ]
  },
  {
   "cell_type": "markdown",
   "metadata": {},
   "source": [
    "What about if we flip the coin three times?\n",
    "\n",
    "$P(x_{1} = H \\cap x_{2} = H \\cap x_{3} = H) = 0.125$\n",
    "\n",
    "$P(x_{1} = H \\cap x_{2} = H \\cap x_{3} = T) = 0.125$\n",
    "\n",
    "$P(x_{1} = H \\cap x_{2} = T \\cap x_{3} = H) = 0.125$\n",
    "\n",
    "$P(x_{1} = H \\cap x_{2} = T \\cap x_{3} = T) = 0.125$\n",
    "\n",
    "$P(x_{1} = T \\cap x_{2} = H \\cap x_{3} = H) = 0.125$\n",
    "\n",
    "$P(x_{1} = T \\cap x_{2} = H \\cap x_{3} = T) = 0.125$\n",
    "\n",
    "$P(x_{1} = T \\cap x_{2} = T \\cap x_{3} = H) = 0.125$\n",
    "\n",
    "$P(x_{1} = T \\cap x_{2} = T \\cap x_{3} = T) = 0.125$"
   ]
  },
  {
   "cell_type": "markdown",
   "metadata": {},
   "source": [
    "Now, let's group them based on the number of Heads and Tails\n",
    "\n",
    "$P(H3T0) = P(x_{1} = H \\cap x_{2} = H \\cap x_{3} = H) = 0.125$\n",
    "\n",
    "$P(H2T1) = P(x_{1} = H \\cap x_{2} = H \\cap x_{3} = T) + P(x_{1} = H \\cap x_{2} = T \\cap x_{3} = H) + P(x_{1} = H \\cap x_{2} = T \\cap x_{3} = H) = 0.375$\n",
    "\n",
    "$P(H1T2) = P(x_{1} = H \\cap x_{2} = T \\cap x_{3} = T) + P(x_{1} = T \\cap x_{2} = H \\cap x_{3} = T) + P(x_{1} = T \\cap x_{2} = T \\cap x_{3} = H) = 0.375$\n",
    "\n",
    "$P(H0T3) = P(x_{1} = T \\cap x_{2} = T \\cap x_{3} = T) = 0.125$"
   ]
  },
  {
   "cell_type": "markdown",
   "metadata": {},
   "source": [
    "There was just one way to get heads three times, and one way to get tails three times. Heads once and tails twice had three ways, and heads twice and tails once had three ways.\n",
    "\n",
    "To calculate the number of ways to get $j$ heads out of $n$ flips, we use this formula\n",
    "\n",
    "$\\frac{n!}{j! * (n-j)!}$\n"
   ]
  },
  {
   "cell_type": "markdown",
   "metadata": {},
   "source": [
    "For example, the number of ways to get heads once out of 3 flips is\n",
    "\n",
    "$\\frac{3!}{1! * (3 - 1)!}$\n",
    "\n",
    "$\\frac{3!}{1!*2!}$\n",
    "\n",
    "$\\frac{6}{1 * 2}$\n",
    "\n",
    "$3$"
   ]
  },
  {
   "cell_type": "markdown",
   "metadata": {},
   "source": [
    "To calculate the probability of $j$ Heads out of $n$ flips then, we use this formula\n",
    "\n",
    "$P(jH(n-j)T) = 0.5^{j} * (1 - 0.5)^{n-j} * \\frac{n!}{j!*(n-j)!}$"
   ]
  },
  {
   "cell_type": "markdown",
   "metadata": {},
   "source": [
    "So, the probability of getting heads once out of 3 flips is\n",
    "\n",
    "$P(1H(3 - 1)T) = 0.5^{1} * (1 - 0.5)^{3-1} * \\frac{3!}{1!*(3-1)!}$\n",
    "\n",
    "$P(1H2T) = 0.5^{1} * 0.5^{2} * \\frac{3!}{1!*2!}$\n",
    "\n",
    "$P(1H2T) = 0.5 * 0.25 * \\frac{3!}{1!*2!}$\n",
    "\n",
    "$P(1H2T) = 0.125 * \\frac{3!}{1!*(2)!}$\n",
    "\n",
    "$P(1H2T) = 0.125 * \\frac{6}{1*2}$\n",
    "\n",
    "$P(1H2T) = 0.125 * \\frac{6}{2}$\n",
    "\n",
    "$P(1H2T) = 0.125 * 3$\n",
    "\n",
    "$P(1H2T) = 0.375$"
   ]
  },
  {
   "cell_type": "markdown",
   "metadata": {},
   "source": [
    "Flipping a coin has two outcomes, each with 50% probability, but this distribution also works for  other probabilities. The probability of $j$ successes with probability $p$ and $k$ failures with probability $1 - p$ out of $j + k$ attempts is\n",
    "\n",
    "$P(jSkF) = p^{j} * (1 - p)^{k} * \\frac{(j + k)!}{j!k!}$\n",
    "\n"
   ]
  }
 ],
 "metadata": {
  "language_info": {
   "name": "python"
  }
 },
 "nbformat": 4,
 "nbformat_minor": 2
}
