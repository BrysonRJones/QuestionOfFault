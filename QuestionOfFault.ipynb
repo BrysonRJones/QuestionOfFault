{
 "cells": [
  {
   "cell_type": "markdown",
   "metadata": {},
   "source": [
    "# Dota 2\n",
    "## Abstract\n",
    "When determining fault for a loss, placing blame on only the worst player on a team means that it's plausible that a Dota 2 player is only to blame for 2 of their last 18 losses. Placing blame on anyone who played below their average means that it's highly unlikely that a Dota 2 player is only to blame for 2 of their last 18 losses.\n",
    "\n",
    "## Background and Conventions\n",
    "This is an examination of a discussion that I came across online. It devolved past the point of productive conversation, but I think the two involved (the original poster and the commenter) would have been able to benefit from one another's perspective if they had understood that each was working off of different definitions and beliefs.\n",
    "\n",
    "Capitalized nouns (other than OP) refer to the character a player uses to interact with the game, e.g., Mirana, Dazzle, Tiny. These characters are also called heroes. These heroes buy items, destroy enemy structures, and march up into the enemy's stronghold to end the conflict. It requires an intense amount of cooperation between the player and their four teammates.\n",
    "\n",
    "## A Question of Fault\n",
    "On the Dota 2 subreddit, there are an enormous number of different perspectives about how to play and how to improve. Redditors, looking for validation, will often describe a game they just played, tell us all about how their team played poorly, and conclude saying, \"There was nothing I could have done.\" Other players then respond, asking them what they were doing on their hero. \"Did you buy the right items? Did you play around your team correctly? Did you pressure other lanes as much as you needed to? Did you TP when your mid was getting ganked?\" The original commenter then feels attacked, and says, \"It's not my fault that I lost the game. My (Sniper | Troll | Dazzle | AM | Tiny) played sooooo bad.\" The comments then inevitably devolve into puerile insults.\n",
    "\n",
    "In one recent example, a commenter described how they had lost 16 of the last 18 games that they had played. He mentioned that in one of his games, a Mirana (who was supposed to be supporting him) followed him around, sniping every creep for twenty minutes. In another game, his carry threw (caused his team to lose a winning game) by failing at going high ground multiple times. Over the course of those 18 games, he said it had only been his fault twice that he'd lost.\n",
    "\n",
    "\"You've lost 16 out of your last 18 games, and there were only two games where you could have improved? You just need to admit that you're bad. That's so unlikely,\" a Reditor responded. The exchange then got significantly more vitriolic. As it happens, I don't think that either of these two are wrong - they're just looking at the game from two different perspectives.\n",
    "\n",
    "## Examining OP's perspective\n",
    "From the original poster's (OP's) point of view, it's his fault that he lost when he's the worst player on his team. What's the chance that he's the worst player on his team?"
   ]
  },
  {
   "cell_type": "code",
   "execution_count": 2,
   "metadata": {},
   "outputs": [
    {
     "name": "stdout",
     "output_type": "stream",
     "text": [
      "0.2\n"
     ]
    }
   ],
   "source": [
    "worst_player_count = 1\n",
    "players_on_team = 5\n",
    "probability_op_is_worst_player = 1 / 5 #Naive Bayes prior\n",
    "print(probability_op_is_worst_player)"
   ]
  },
  {
   "cell_type": "markdown",
   "metadata": {},
   "source": [
    "Under this point of view, the probability is 0.2, or 20%, that OP is the worst player on his team. Under that definition, what are the odds that out of 18 games, he was the worst player in two of them?"
   ]
  },
  {
   "cell_type": "code",
   "execution_count": 3,
   "metadata": {},
   "outputs": [
    {
     "name": "stdout",
     "output_type": "stream",
     "text": [
      "0.172\n"
     ]
    }
   ],
   "source": [
    "import math\n",
    "total_games = 18\n",
    "\n",
    "# Games where the OP was the worst player on his team\n",
    "games_where_worst = 2 \n",
    "\n",
    "# Games where the OP was NOT the worst player on his team\n",
    "games_where_not = total_games - games_where_worst \n",
    "\n",
    "# The probability of the OP being the worst player in <games_where_worst> games in a row\n",
    "worst_player_chance = probability_op_is_worst_player ** games_where_worst \n",
    "\n",
    " # The probability of OP not being the worst player <games_where_not> games in a row\n",
    "not_worst_player_chance = (1 - probability_op_is_worst_player) ** games_where_not\n",
    "\n",
    "# We have the probabilities of each happening multiple times in a row,\n",
    "# but we want to know the probability when they're combined.\n",
    "# Since we don't have any evidence that the chance that he's the worst player\n",
    "# depends on whether he was the worst player in his previous game, the chance\n",
    "# that he's the worst player in x games in a row can be treated as independent\n",
    "# of the chance that he's not the worst player y games in a row\n",
    "# P(AB) = P(A) * P(B)  [when event A and event B are independent]\n",
    "joint_chance = worst_player_chance * not_worst_player_chance\n",
    "\n",
    "# Now, we want the probabilities when they don't happen in a particular order,\n",
    "# so we need the number of different ways to play <total_games> games\n",
    "ways_to_play_total_games = math.factorial(total_games)\n",
    "\n",
    "# We don't care about the order of the games where the OP was the worst, so we\n",
    "# divide by the number of ways to play <games_where_worst> games\n",
    "ways_total_unordered_worst = ways_to_play_total_games / math.factorial(games_where_worst)\n",
    "\n",
    "# We also don't care about the order of the games where OP wasn't the worst, so\n",
    "# we divide by the number of ways to play <games_where_not> games\n",
    "ways_total_unordered_both = ways_total_unordered_worst/math.factorial(games_where_not)\n",
    "\n",
    "# Now, we combine them all\n",
    "naive_chance = (worst_player_chance) \\\n",
    "\t* (not_worst_player_chance) \\\n",
    "\t* ways_total_unordered_both\n",
    "\n",
    "# Print to 3 decimal points\n",
    "print(\"{:4.3f}\".format(naive_chance))"
   ]
  },
  {
   "cell_type": "markdown",
   "metadata": {},
   "source": [
    "0.172 (17.2%) might seem low, but in questions like this, that's actually a really high probability. For comparison, let's look at the chance that he's the worst player in 0, 1, 2, 3, 4, and 5 of the 18 games that he played."
   ]
  },
  {
   "cell_type": "code",
   "execution_count": 11,
   "metadata": {},
   "outputs": [
    {
     "name": "stdout",
     "output_type": "stream",
     "text": [
      "Chance of 0: 0.018\n",
      "Chance of 1: 0.081\n",
      "Chance of 2: 0.172\n",
      "Chance of 3: 0.230\n",
      "Chance of 4: 0.215\n",
      "Chance of 5: 0.151\n"
     ]
    }
   ],
   "source": [
    "examples_to_consider = 5 + 1 # since we're including 0, add 1\n",
    "for example in range(examples_to_consider):\n",
    "\tgames_where_worst = example\n",
    "\tgames_where_not = total_games - games_where_worst\n",
    "\tnaive_chance = probability_op_is_worst_player ** games_where_worst \\\n",
    "\t* ((1 - probability_op_is_worst_player) ** games_where_not) \\\n",
    "\t* math.factorial(total_games) / (math.factorial(games_where_worst) * math.factorial(games_where_not))\n",
    "\tprint(\"Chance of {}: {:4.3f}\".format(example, naive_chance))"
   ]
  },
  {
   "cell_type": "markdown",
   "metadata": {},
   "source": [
    "OP being the worst player in 2 of those 18 games is the third most likely outcome. The most likely outcome, at 23%, is that the OP was the worst player in 3 of his games. \n",
    "\n",
    "From this, we can conclude that it's plausible that the OP was the worst player on his team in only 2 games.\n",
    "\n",
    "## Commenter's Perspective\n",
    "Since the OP's perspective is plausible, we can tell that the commenter is likely not looking at the question the same way as the OP. Instead, I think that he's asking the question, \"What's the expected number of games where OP could have improved?\"\n",
    "\n",
    "If the OP isn't 15k MMR (**M**atch**M**aking **R**ating, which is the result of a modified ELO algorithm to measure skill), then the answer should be 100%, but I don't think that that's what the commenter means. Instead, it seems like he's looking at the OP's average performance, and saying that the OP could have improved when he did worse than his average.\n",
    "\n",
    "Under that definition, OP is worse than his average in 50% of his games and better than his average in 50% of games. With that prior, what's the chance that the OP could only have improved in 2 of his 18 games?"
   ]
  },
  {
   "cell_type": "code",
   "execution_count": 12,
   "metadata": {},
   "outputs": [
    {
     "name": "stdout",
     "output_type": "stream",
     "text": [
      "0.00058\n"
     ]
    }
   ],
   "source": [
    "probability_op_could_have_improved = 0.5\n",
    "total_games = 18\n",
    "games_where_could_have_improved = 2\n",
    "games_where_couldnt = total_games - games_where_could_have_improved\n",
    "naive_chance = probability_op_could_have_improved ** games_where_could_have_improved \\\n",
    "\t* ((1 - probability_op_could_have_improved) ** games_where_couldnt) \\\n",
    "\t* math.factorial(total_games) / (math.factorial(games_where_could_have_improved) * math.factorial(games_where_couldnt))\n",
    "print(\"{:6.5f}\".format(naive_chance))"
   ]
  },
  {
   "cell_type": "markdown",
   "metadata": {},
   "source": [
    "0.00058 (0.058%) is a really low chance; it's about 6 out of 100,000. The commenter is right to be skeptical - the chance that OP only played below his average in 2 games is **really** small. Under the commenter's definition, he's right to be skeptical that the OP was only at fault for two of his losses.\n",
    "\n",
    "### Synthesis\n",
    "As a result, neither of them is wrong, and neither of them is right. OP is right because, under his definition, he likely wasn't at fault for a large perecentage of his losses. The commenter is right because, under the his definition, there's a very low chance that OP really only played below average in 2 games.\n",
    "\n",
    "## Analysis\n",
    "Now we come to the crux of the issue: whose definition is more **useful**? \n",
    "\n",
    "### OP's perspective\n",
    "OP's definition is more useful for avoiding the negative feelings that come from loss. Out of a hypothetical set of 20 games, on average he'd only feel bad about his performance in 4. When OP goes to examine his performance in those games, every single person in those games will be an example of how he could improve, because he was the worst player on his team. \n",
    "\n",
    "However, OP isn't directly learning how to play well - OP's learning how to not play poorly. Because of that, it'll take him a lot more time to learn how to excel in games where he's the best player on his team.\n",
    "\n",
    "### Commenter's perspective\n",
    "The commenter's definition is more useful for improving in general, but for players that respond to self-criticism poorly, they run the risk of unbalancing themselves and either getting tilted or getting discouraged. When someone using this definition goes to examine their games, they might find occurrences where they were one of the best players in the game, but because they didn't match the standards that they've set for themselves, they still feel bad.\n",
    "\n",
    "Under this definition, you aren't playing against other players - you're playing against yourself. If you're the type of person who can handle self-criticism, then this perspective will help you to improve much more quickly. However, it will also require more effort and focus than the alternative perspective.\n",
    "\n",
    "## Conclusion\n",
    "The exact definition of \"fault\" that we use is important, and it can have long-term effects on the way that we learn and improve. Neither of the players in this conversation was **wrong**. Instead, both of them have different perspectives and objectives in playing the game."
   ]
  }
 ],
 "metadata": {
  "kernelspec": {
   "display_name": "Python 3",
   "language": "python",
   "name": "python3"
  },
  "language_info": {
   "codemirror_mode": {
    "name": "ipython",
    "version": 3
   },
   "file_extension": ".py",
   "mimetype": "text/x-python",
   "name": "python",
   "nbconvert_exporter": "python",
   "pygments_lexer": "ipython3",
   "version": "3.10.5"
  }
 },
 "nbformat": 4,
 "nbformat_minor": 2
}
